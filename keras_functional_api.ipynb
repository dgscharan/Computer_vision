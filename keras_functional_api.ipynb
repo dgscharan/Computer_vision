{
  "nbformat": 4,
  "nbformat_minor": 0,
  "metadata": {
    "colab": {
      "name": "keras_functional_api.ipynb",
      "provenance": [],
      "authorship_tag": "ABX9TyM3o1CcrCfWgqSeSm6IywBn",
      "include_colab_link": true
    },
    "kernelspec": {
      "name": "python3",
      "display_name": "Python 3"
    },
    "accelerator": "GPU"
  },
  "cells": [
    {
      "cell_type": "markdown",
      "metadata": {
        "id": "view-in-github",
        "colab_type": "text"
      },
      "source": [
        "<a href=\"https://colab.research.google.com/github/dgscharan/Computer_vision/blob/main/keras_functional_api.ipynb\" target=\"_parent\"><img src=\"https://colab.research.google.com/assets/colab-badge.svg\" alt=\"Open In Colab\"/></a>"
      ]
    },
    {
      "cell_type": "code",
      "metadata": {
        "id": "exDsGf6h6dNT"
      },
      "source": [
        "import cv2\n",
        "import numpy as np\n",
        "import imutils \n",
        "import matplotlib.pyplot as plt \n",
        "\n"
      ],
      "execution_count": null,
      "outputs": []
    },
    {
      "cell_type": "code",
      "metadata": {
        "id": "gTyhP_PXBh9T"
      },
      "source": [
        "import keras\n",
        "import keras.backend as K\n",
        "\n",
        "from keras.models import Model\n",
        "from keras.layers import Input, BatchNormalization, Convolution2D, Dense, Dropout, MaxPooling2D, Flatten\n",
        "from keras.layers import AveragePooling2D, GlobalAveragePooling2D, concatenate, UpSampling2D, Conv2DTranspose\n",
        "\n",
        "from keras.optimizers import Adam\n",
        "from keras.callbacks import ModelCheckpoint\n",
        "from keras.utils.vis_utils import model_to_dot\n",
        "\n",
        "\n",
        "from google.colab.patches import cv2_imshow"
      ],
      "execution_count": null,
      "outputs": []
    },
    {
      "cell_type": "code",
      "metadata": {
        "id": "l_RUXGPK7MYD"
      },
      "source": [
        "from keras.datasets import mnist\n",
        "\n",
        "(x_train, y_train), (x_test, y_test) = mnist.load_data()\n"
      ],
      "execution_count": null,
      "outputs": []
    },
    {
      "cell_type": "markdown",
      "metadata": {
        "id": "Y7e-Pvzm8r03"
      },
      "source": [
        "**Generate combined images test data **"
      ]
    },
    {
      "cell_type": "code",
      "metadata": {
        "id": "YC3hiojm7ncD"
      },
      "source": [
        "max = 9\n",
        "def create_numbers(numbers, number_labels, maxlength=max, digit_sz=(28, 28), return_label=False):\n",
        "    # Attention: Only coded to work with grayscale images at the moment.\n",
        "\n",
        "    # Randomly choose a number length:\n",
        "    img_len = np.random.choice(range(maxlength)) + 1\n",
        "    label = np.empty(maxlength, dtype='str')\n",
        "\n",
        "    #print \"length: \", img_len\n",
        "\n",
        "\n",
        "    # Randomly choose where in our image the sequence of numbers will appear\n",
        "    if img_len < maxlength:\n",
        "        st_point = np.random.choice(maxlength - img_len)\n",
        "    else:\n",
        "        st_point = 0\n",
        "    \n",
        "    #print \"start:\", st_point\n",
        "\n",
        "    charmap = np.zeros(maxlength)\n",
        "    charmap[st_point:st_point + img_len] = 1\n",
        "    \n",
        "    #print \"charmap: \", charmap\n",
        "\n",
        "    # Define a blank character - this will ensure our input image always have the same dimensions\n",
        "    blank_char = np.zeros_like(digit_sz)\n",
        "    blank_lbl = \".\"\n",
        "\n",
        "    # Initialize a blank image with maxlen * digit_dz width and digit_sz height\n",
        "    new_img_len = maxlength * digit_sz[1]\n",
        "    new_img = np.zeros((digit_sz[0], new_img_len))\n",
        "    \n",
        "    # Fill in the image with random numbers from dataset, starting at st_point\n",
        "    for i, b in enumerate(charmap):\n",
        "        if b > 0:\n",
        "            n = np.random.choice(len(numbers))\n",
        "            st_pos = i * digit_sz[1]\n",
        "            new_img[:, st_pos:st_pos + digit_sz[1]] = numbers[n]\n",
        "            label[i] = str(number_labels[n])\n",
        "        else:\n",
        "            label[i] = blank_lbl\n",
        "\n",
        "    if return_label:\n",
        "        return new_img, label\n",
        "\n",
        "    return new_img"
      ],
      "execution_count": null,
      "outputs": []
    },
    {
      "cell_type": "code",
      "metadata": {
        "id": "CmB3OVTjBRn7",
        "colab": {
          "base_uri": "https://localhost:8080/",
          "height": 62
        },
        "outputId": "ab767aee-1cfd-41d2-bbfe-2178964e6b5c"
      },
      "source": [
        "img, label = create_numbers(x_train, y_train, return_label = True)\n",
        "cv2_imshow(img)\n",
        "print(label)"
      ],
      "execution_count": null,
      "outputs": [
        {
          "output_type": "display_data",
          "data": {
            "image/png": "[encoded data removed]",
            "text/plain": [
              "<PIL.Image.Image image mode=L size=252x28 at 0x7F17664F5780>"
            ]
          },
          "metadata": {
            "tags": []
          }
        },
        {
          "output_type": "stream",
          "text": [
            "['.' '.' '.' '.' '6' '6' '7' '3' '.']\n"
          ],
          "name": "stdout"
        }
      ]
    },
    {
      "cell_type": "code",
      "metadata": {
        "id": "pT8fox-uBknl"
      },
      "source": [
        "def generator(numbers, number_labels, batch_size=32):\n",
        "    \"\"\"\n",
        "    This generator receives mnist digits and labels and returns a batch for training\n",
        "\n",
        "    Input:\n",
        "    numbers - array with mnist images.\n",
        "    number_labels - array with mnist labels.\n",
        "\n",
        "    Arguments:\n",
        "    batch_size - size of the mini batch\n",
        "\n",
        "    Output:\n",
        "    X_train and y_train\n",
        "    \"\"\"\n",
        "    while True:  # Loop forever so the generator never terminates\n",
        "\n",
        "        images = []\n",
        "        labels = []\n",
        "\n",
        "        for batch_sample in range(batch_size):\n",
        "            img, label = create_numbers(numbers, number_labels, return_label=True)\n",
        "            \n",
        "            # Here we will convert the label to a format that Keras API can process:\n",
        "            n_label = np.zeros((max, 11), dtype='int')\n",
        "            for i, digit in enumerate(label):\n",
        "                if digit == \".\":\n",
        "                    n_digit = 10\n",
        "                else:\n",
        "                    n_digit = int(digit)\n",
        "\n",
        "                n_label[i][n_digit] = 1\n",
        "                \n",
        "\n",
        "            images.append(img)\n",
        "            #labels.append(label)\n",
        "            labels.append(n_label)\n",
        "\n",
        "        X_train = np.array(images)\n",
        "        if len(X_train.shape) == 3:\n",
        "            X_train = np.expand_dims(X_train, -1)\n",
        "\n",
        "        y_temp = np.array(labels)\n",
        "        \n",
        "        y1 = y_temp[:, 0, :]\n",
        "        y2 = y_temp[:, 1, :]\n",
        "        y3 = y_temp[:, 2, :]\n",
        "        y4 = y_temp[:, 3, :]\n",
        "        y5 = y_temp[:, 4, :]\n",
        "        y6 = y_temp[:, 5, :]\n",
        "        y7 = y_temp[:, 6, :]\n",
        "        y8 = y_temp[:, 7, :]\n",
        "        y9 = y_temp[:, 8, :]\n",
        "\n",
        "        yield X_train, [y1, y2, y3, y4, y5,y6,y7,y8,y9]"
      ],
      "execution_count": null,
      "outputs": []
    },
    {
      "cell_type": "code",
      "metadata": {
        "id": "bAalEJa_DbPh"
      },
      "source": [
        "def convert_label(label):\n",
        "    n_label = \"\"\n",
        "    for digit in label:\n",
        "        if np.argmax(digit) == 10:\n",
        "            n_digit = \".\"\n",
        "        else:\n",
        "            n_digit = str(np.argmax(digit))\n",
        "        n_label += n_digit\n",
        "    return n_label"
      ],
      "execution_count": null,
      "outputs": []
    },
    {
      "cell_type": "markdown",
      "metadata": {
        "id": "tTXN7kgXr__v"
      },
      "source": [
        ""
      ]
    },
    {
      "cell_type": "code",
      "metadata": {
        "id": "CcRTuIihDeE6"
      },
      "source": [
        "# Create samples to test the generator\n",
        "i = 0\n",
        "for a, b in generator(x_train, y_train, batch_size=16): \n",
        "    test_imgs = a\n",
        "    test_lbls = b\n",
        "    \n",
        "    i += 1\n",
        "    \n",
        "    if i > 1:\n",
        "        break"
      ],
      "execution_count": null,
      "outputs": []
    },
    {
      "cell_type": "code",
      "metadata": {
        "id": "WEGc7jk6DgcD",
        "colab": {
          "base_uri": "https://localhost:8080/",
          "height": 306
        },
        "outputId": "44f82d76-bae5-475e-d0ed-dffc70eb77df"
      },
      "source": [
        "rows_to_plot = 8\n",
        "cols_to_plot = 2\n",
        "\n",
        "f = plt.figure(figsize=(12, 12))\n",
        "\n",
        "for i in range(6):\n",
        "    f.add_subplot(rows_to_plot, cols_to_plot, i+1)\n",
        "    plt.title(convert_label(np.vstack((test_lbls[0][i], test_lbls[1][i], test_lbls[2][i], \n",
        "                                                test_lbls[3][i],test_lbls[4][i],test_lbls[5][i],test_lbls[6][i],test_lbls[7][i],test_lbls[8][i]))))\n",
        "    plt.imshow(test_imgs[i][:, :, 0], cmap='gray')\n",
        "    plt.axis('off')\n",
        "\n",
        "plt.tight_layout()\n",
        "plt.show()"
      ],
      "execution_count": null,
      "outputs": [
        {
          "output_type": "display_data",
          "data": {
            "image/png": "[encoded data removed]",
            "text/plain": [
              "<Figure size 864x864 with 6 Axes>"
            ]
          },
          "metadata": {
            "tags": [],
            "needs_background": "light"
          }
        }
      ]
    },
    {
      "cell_type": "code",
      "metadata": {
        "id": "tu3p2pWuDwJ7"
      },
      "source": [
        "\n",
        "# Based on Model from: http://static.googleusercontent.com/media/research.google.com/en//pubs/archive/42241.pdf\n",
        "def get_model(input_shape=(28, 28*max, 3), p=0.5, n_class=11):\n",
        "\n",
        "    inputs = Input(((input_shape[0], input_shape[1], input_shape[2])))\n",
        "    \n",
        "    x = BatchNormalization()(inputs)\n",
        "    x = Convolution2D(48, 5, activation='relu', padding='same', strides=(1, 1))(x)\n",
        "    x = MaxPooling2D(pool_size=(2, 2), strides=(2, 2))(x)\n",
        "    x = Dropout(p/4)(x)\n",
        "    \n",
        "    x = BatchNormalization()(x)\n",
        "    x = Convolution2D(64, 5, activation='relu', padding='same', strides=(1, 1))(x)\n",
        "    x = MaxPooling2D(pool_size=(2, 2), strides=(1, 1))(x)\n",
        "    x = Dropout(p/4)(x)\n",
        "\n",
        "    x = BatchNormalization()(x)\n",
        "    x = Convolution2D(128, 5, activation='relu', padding='same', strides=(1, 1))(x)\n",
        "    x = MaxPooling2D(pool_size=(2, 2), strides=(2, 2))(x)\n",
        "    x = Dropout(p/2)(x)\n",
        "\n",
        "    x = BatchNormalization()(x)\n",
        "    x = Convolution2D(160, 5, activation='relu', padding='same', strides=(1, 1))(x)\n",
        "    x = MaxPooling2D(pool_size=(2, 2), strides=(1, 1))(x)\n",
        "    x = Dropout(p/2)(x)\n",
        "\n",
        "    x = BatchNormalization()(x)\n",
        "    x = Convolution2D(192, 5, activation='relu', padding='same', strides=(1, 1))(x)\n",
        "    x = MaxPooling2D(pool_size=(2, 2), strides=(2, 2))(x)\n",
        "    x = Dropout(p)(x)\n",
        "\n",
        "    x = BatchNormalization()(x)\n",
        "    x = Convolution2D(192, 5, activation='relu', padding='same', strides=(1, 1))(x)\n",
        "    x = MaxPooling2D(pool_size=(2, 2), strides=(1, 1))(x)\n",
        "    x = Dropout(p)(x)\n",
        "    \n",
        "    # I had to remove this part because the input size we have is too small for a network this deep.\n",
        "    # Another alternative would have been change the maxpool strides.\n",
        "    \n",
        "    #x = BatchNormalization()(x)\n",
        "    #x = Convolution2D(192, 5, activation='relu', padding='same', strides=(1, 1))(x)\n",
        "    #x = MaxPooling2D(pool_size=(2, 2), strides=(2, 2))(x)\n",
        "    #x = Dropout(p)(x)\n",
        "\n",
        "    #x = BatchNormalization()(x)\n",
        "    #x = Convolution2D(192, 5, activation='relu', padding='same', strides=(1, 1))(x)\n",
        "    #x = MaxPooling2D(pool_size=(2, 2), strides=(1, 1))(x)\n",
        "    #x = Dropout(p)(x)\n",
        "    \n",
        "    x = Flatten()(x)\n",
        "    x = Dense(1024, activation='relu')(x) # I also reduced the number of activations\n",
        "    x = Dense(1024, activation='relu')(x)\n",
        "    \n",
        "    c1 = Dense(n_class, activation='softmax')(x)\n",
        "    c2 = Dense(n_class, activation='softmax')(x)\n",
        "    c3 = Dense(n_class, activation='softmax')(x)\n",
        "    c4 = Dense(n_class, activation='softmax')(x)\n",
        "    c5 = Dense(n_class, activation='softmax')(x)\n",
        "    c6 = Dense(n_class, activation='softmax')(x)\n",
        "    c7 = Dense(n_class, activation='softmax')(x)\n",
        "    c8 = Dense(n_class, activation='softmax')(x)\n",
        "    c9 = Dense(n_class, activation='softmax')(x)\n",
        "\n",
        "\n",
        "    \n",
        "    output = [c1, c2, c3, c4, c5,c6,c7,c8,c9]\n",
        "    \n",
        "    model = Model(inputs=inputs, outputs=output)\n",
        "\n",
        "    return model"
      ],
      "execution_count": null,
      "outputs": []
    },
    {
      "cell_type": "code",
      "metadata": {
        "id": "eZ5N9xB7k0Kj"
      },
      "source": [
        "def convert_output(model_output):\n",
        "    model_output = np.array(model_output).swapaxes(0,1)\n",
        "    labels = []\n",
        "    for output in model_output:\n",
        "        label = convert_label(output)\n",
        "        labels.append(label)\n",
        "    return labels"
      ],
      "execution_count": null,
      "outputs": []
    },
    {
      "cell_type": "code",
      "metadata": {
        "id": "xPphhYngmFjs"
      },
      "source": [
        "model = get_model(input_shape=(28,28*max,1))\n"
      ],
      "execution_count": null,
      "outputs": []
    },
    {
      "cell_type": "code",
      "metadata": {
        "id": "GRHRT8dEmNfV",
        "colab": {
          "base_uri": "https://localhost:8080/",
          "height": 1000
        },
        "outputId": "09e965fc-0fda-416f-e498-80fb9af78ad1"
      },
      "source": [
        "model.summary()"
      ],
      "execution_count": null,
      "outputs": [
        {
          "output_type": "stream",
          "text": [
            "Model: \"functional_1\"\n",
            "__________________________________________________________________________________________________\n",
            "Layer (type)                    Output Shape         Param #     Connected to                     \n",
            "==================================================================================================\n",
            "input_1 (InputLayer)            [(None, 28, 252, 1)] 0                                            \n",
            "__________________________________________________________________________________________________\n",
            "batch_normalization (BatchNorma (None, 28, 252, 1)   4           input_1[0][0]                    \n",
            "__________________________________________________________________________________________________\n",
            "conv2d (Conv2D)                 (None, 28, 252, 48)  1248        batch_normalization[0][0]        \n",
            "__________________________________________________________________________________________________\n",
            "max_pooling2d (MaxPooling2D)    (None, 14, 126, 48)  0           conv2d[0][0]                     \n",
            "__________________________________________________________________________________________________\n",
            "dropout (Dropout)               (None, 14, 126, 48)  0           max_pooling2d[0][0]              \n",
            "__________________________________________________________________________________________________\n",
            "batch_normalization_1 (BatchNor (None, 14, 126, 48)  192         dropout[0][0]                    \n",
            "__________________________________________________________________________________________________\n",
            "conv2d_1 (Conv2D)               (None, 14, 126, 64)  76864       batch_normalization_1[0][0]      \n",
            "__________________________________________________________________________________________________\n",
            "max_pooling2d_1 (MaxPooling2D)  (None, 13, 125, 64)  0           conv2d_1[0][0]                   \n",
            "__________________________________________________________________________________________________\n",
            "dropout_1 (Dropout)             (None, 13, 125, 64)  0           max_pooling2d_1[0][0]            \n",
            "__________________________________________________________________________________________________\n",
            "batch_normalization_2 (BatchNor (None, 13, 125, 64)  256         dropout_1[0][0]                  \n",
            "__________________________________________________________________________________________________\n",
            "conv2d_2 (Conv2D)               (None, 13, 125, 128) 204928      batch_normalization_2[0][0]      \n",
            "__________________________________________________________________________________________________\n",
            "max_pooling2d_2 (MaxPooling2D)  (None, 6, 62, 128)   0           conv2d_2[0][0]                   \n",
            "__________________________________________________________________________________________________\n",
            "dropout_2 (Dropout)             (None, 6, 62, 128)   0           max_pooling2d_2[0][0]            \n",
            "__________________________________________________________________________________________________\n",
            "batch_normalization_3 (BatchNor (None, 6, 62, 128)   512         dropout_2[0][0]                  \n",
            "__________________________________________________________________________________________________\n",
            "conv2d_3 (Conv2D)               (None, 6, 62, 160)   512160      batch_normalization_3[0][0]      \n",
            "__________________________________________________________________________________________________\n",
            "max_pooling2d_3 (MaxPooling2D)  (None, 5, 61, 160)   0           conv2d_3[0][0]                   \n",
            "__________________________________________________________________________________________________\n",
            "dropout_3 (Dropout)             (None, 5, 61, 160)   0           max_pooling2d_3[0][0]            \n",
            "__________________________________________________________________________________________________\n",
            "batch_normalization_4 (BatchNor (None, 5, 61, 160)   640         dropout_3[0][0]                  \n",
            "__________________________________________________________________________________________________\n",
            "conv2d_4 (Conv2D)               (None, 5, 61, 192)   768192      batch_normalization_4[0][0]      \n",
            "__________________________________________________________________________________________________\n",
            "max_pooling2d_4 (MaxPooling2D)  (None, 2, 30, 192)   0           conv2d_4[0][0]                   \n",
            "__________________________________________________________________________________________________\n",
            "dropout_4 (Dropout)             (None, 2, 30, 192)   0           max_pooling2d_4[0][0]            \n",
            "__________________________________________________________________________________________________\n",
            "batch_normalization_5 (BatchNor (None, 2, 30, 192)   768         dropout_4[0][0]                  \n",
            "__________________________________________________________________________________________________\n",
            "conv2d_5 (Conv2D)               (None, 2, 30, 192)   921792      batch_normalization_5[0][0]      \n",
            "__________________________________________________________________________________________________\n",
            "max_pooling2d_5 (MaxPooling2D)  (None, 1, 29, 192)   0           conv2d_5[0][0]                   \n",
            "__________________________________________________________________________________________________\n",
            "dropout_5 (Dropout)             (None, 1, 29, 192)   0           max_pooling2d_5[0][0]            \n",
            "__________________________________________________________________________________________________\n",
            "flatten (Flatten)               (None, 5568)         0           dropout_5[0][0]                  \n",
            "__________________________________________________________________________________________________\n",
            "dense (Dense)                   (None, 1024)         5702656     flatten[0][0]                    \n",
            "__________________________________________________________________________________________________\n",
            "dense_1 (Dense)                 (None, 1024)         1049600     dense[0][0]                      \n",
            "__________________________________________________________________________________________________\n",
            "dense_2 (Dense)                 (None, 11)           11275       dense_1[0][0]                    \n",
            "__________________________________________________________________________________________________\n",
            "dense_3 (Dense)                 (None, 11)           11275       dense_1[0][0]                    \n",
            "__________________________________________________________________________________________________\n",
            "dense_4 (Dense)                 (None, 11)           11275       dense_1[0][0]                    \n",
            "__________________________________________________________________________________________________\n",
            "dense_5 (Dense)                 (None, 11)           11275       dense_1[0][0]                    \n",
            "__________________________________________________________________________________________________\n",
            "dense_6 (Dense)                 (None, 11)           11275       dense_1[0][0]                    \n",
            "__________________________________________________________________________________________________\n",
            "dense_7 (Dense)                 (None, 11)           11275       dense_1[0][0]                    \n",
            "__________________________________________________________________________________________________\n",
            "dense_8 (Dense)                 (None, 11)           11275       dense_1[0][0]                    \n",
            "__________________________________________________________________________________________________\n",
            "dense_9 (Dense)                 (None, 11)           11275       dense_1[0][0]                    \n",
            "__________________________________________________________________________________________________\n",
            "dense_10 (Dense)                (None, 11)           11275       dense_1[0][0]                    \n",
            "==================================================================================================\n",
            "Total params: 9,341,287\n",
            "Trainable params: 9,340,101\n",
            "Non-trainable params: 1,186\n",
            "__________________________________________________________________________________________________\n"
          ],
          "name": "stdout"
        }
      ]
    },
    {
      "cell_type": "code",
      "metadata": {
        "id": "MhvtB9dMnlDC"
      },
      "source": [
        "optimizer = Adam(lr = 1e-3)\n",
        "model.compile(optimizer, loss='categorical_crossentropy', metrics = ['categorical_accuracy'])\n",
        "\n",
        "trn_generator = generator(x_train, y_train, batch_size=128)\n",
        "val_generator = generator(x_test, y_test, batch_size=128)"
      ],
      "execution_count": null,
      "outputs": []
    },
    {
      "cell_type": "code",
      "metadata": {
        "id": "IwDEO4SOpykB",
        "colab": {
          "base_uri": "https://localhost:8080/",
          "height": 272
        },
        "outputId": "7fd257c0-c88f-4376-d95f-5fbeee2e1200"
      },
      "source": [
        "model.fit_generator(trn_generator,\n",
        "                    epochs=5,\n",
        "                    steps_per_epoch=780,\n",
        "                    validation_data=val_generator,\n",
        "                    validation_steps=780,\n",
        "                    verbose=1)\n"
      ],
      "execution_count": null,
      "outputs": [
        {
          "output_type": "stream",
          "text": [
            "WARNING:tensorflow:From <ipython-input-42-e3f2ff3d3e3f>:6: Model.fit_generator (from tensorflow.python.keras.engine.training) is deprecated and will be removed in a future version.\n",
            "Instructions for updating:\n",
            "Please use Model.fit, which supports generators.\n",
            "Epoch 1/5\n",
            "780/780 [==============================] - 108s 139ms/step - loss: 3.4604 - dense_2_loss: 0.3241 - dense_3_loss: 0.3958 - dense_4_loss: 0.4614 - dense_5_loss: 0.4780 - dense_6_loss: 0.4817 - dense_7_loss: 0.4510 - dense_8_loss: 0.4013 - dense_9_loss: 0.3027 - dense_10_loss: 0.1643 - dense_2_categorical_accuracy: 0.8892 - dense_3_categorical_accuracy: 0.8616 - dense_4_categorical_accuracy: 0.8398 - dense_5_categorical_accuracy: 0.8326 - dense_6_categorical_accuracy: 0.8320 - dense_7_categorical_accuracy: 0.8414 - dense_8_categorical_accuracy: 0.8612 - dense_9_categorical_accuracy: 0.8967 - dense_10_categorical_accuracy: 0.9505 - val_loss: 0.3121 - val_dense_2_loss: 0.0202 - val_dense_3_loss: 0.0372 - val_dense_4_loss: 0.0442 - val_dense_5_loss: 0.0420 - val_dense_6_loss: 0.0370 - val_dense_7_loss: 0.0348 - val_dense_8_loss: 0.0483 - val_dense_9_loss: 0.0275 - val_dense_10_loss: 0.0209 - val_dense_2_categorical_accuracy: 0.9959 - val_dense_3_categorical_accuracy: 0.9927 - val_dense_4_categorical_accuracy: 0.9918 - val_dense_5_categorical_accuracy: 0.9915 - val_dense_6_categorical_accuracy: 0.9928 - val_dense_7_categorical_accuracy: 0.9932 - val_dense_8_categorical_accuracy: 0.9906 - val_dense_9_categorical_accuracy: 0.9954 - val_dense_10_categorical_accuracy: 0.9942\n",
            "Epoch 2/5\n",
            "780/780 [==============================] - 108s 138ms/step - loss: 0.2748 - dense_2_loss: 0.0297 - dense_3_loss: 0.0319 - dense_4_loss: 0.0338 - dense_5_loss: 0.0343 - dense_6_loss: 0.0336 - dense_7_loss: 0.0337 - dense_8_loss: 0.0342 - dense_9_loss: 0.0247 - dense_10_loss: 0.0190 - dense_2_categorical_accuracy: 0.9923 - dense_3_categorical_accuracy: 0.9921 - dense_4_categorical_accuracy: 0.9920 - dense_5_categorical_accuracy: 0.9917 - dense_6_categorical_accuracy: 0.9915 - dense_7_categorical_accuracy: 0.9915 - dense_8_categorical_accuracy: 0.9918 - dense_9_categorical_accuracy: 0.9938 - dense_10_categorical_accuracy: 0.9944 - val_loss: 6.9662 - val_dense_2_loss: 0.2982 - val_dense_3_loss: 0.8171 - val_dense_4_loss: 1.1702 - val_dense_5_loss: 0.6122 - val_dense_6_loss: 0.6466 - val_dense_7_loss: 0.7949 - val_dense_8_loss: 1.0662 - val_dense_9_loss: 0.8733 - val_dense_10_loss: 0.6876 - val_dense_2_categorical_accuracy: 0.9238 - val_dense_3_categorical_accuracy: 0.7300 - val_dense_4_categorical_accuracy: 0.7061 - val_dense_5_categorical_accuracy: 0.8143 - val_dense_6_categorical_accuracy: 0.8004 - val_dense_7_categorical_accuracy: 0.7604 - val_dense_8_categorical_accuracy: 0.6908 - val_dense_9_categorical_accuracy: 0.7370 - val_dense_10_categorical_accuracy: 0.8101\n",
            "Epoch 3/5\n",
            "780/780 [==============================] - 108s 138ms/step - loss: 0.2220 - dense_2_loss: 0.0252 - dense_3_loss: 0.0259 - dense_4_loss: 0.0291 - dense_5_loss: 0.0266 - dense_6_loss: 0.0254 - dense_7_loss: 0.0282 - dense_8_loss: 0.0258 - dense_9_loss: 0.0203 - dense_10_loss: 0.0153 - dense_2_categorical_accuracy: 0.9937 - dense_3_categorical_accuracy: 0.9938 - dense_4_categorical_accuracy: 0.9930 - dense_5_categorical_accuracy: 0.9938 - dense_6_categorical_accuracy: 0.9937 - dense_7_categorical_accuracy: 0.9932 - dense_8_categorical_accuracy: 0.9936 - dense_9_categorical_accuracy: 0.9947 - dense_10_categorical_accuracy: 0.9957 - val_loss: 0.2570 - val_dense_2_loss: 0.0237 - val_dense_3_loss: 0.0404 - val_dense_4_loss: 0.0312 - val_dense_5_loss: 0.0328 - val_dense_6_loss: 0.0327 - val_dense_7_loss: 0.0305 - val_dense_8_loss: 0.0267 - val_dense_9_loss: 0.0266 - val_dense_10_loss: 0.0124 - val_dense_2_categorical_accuracy: 0.9970 - val_dense_3_categorical_accuracy: 0.9937 - val_dense_4_categorical_accuracy: 0.9955 - val_dense_5_categorical_accuracy: 0.9953 - val_dense_6_categorical_accuracy: 0.9953 - val_dense_7_categorical_accuracy: 0.9957 - val_dense_8_categorical_accuracy: 0.9961 - val_dense_9_categorical_accuracy: 0.9962 - val_dense_10_categorical_accuracy: 0.9978\n",
            "Epoch 4/5\n",
            "780/780 [==============================] - 108s 138ms/step - loss: 0.1991 - dense_2_loss: 0.0223 - dense_3_loss: 0.0212 - dense_4_loss: 0.0253 - dense_5_loss: 0.0250 - dense_6_loss: 0.0239 - dense_7_loss: 0.0225 - dense_8_loss: 0.0201 - dense_9_loss: 0.0218 - dense_10_loss: 0.0171 - dense_2_categorical_accuracy: 0.9946 - dense_3_categorical_accuracy: 0.9945 - dense_4_categorical_accuracy: 0.9943 - dense_5_categorical_accuracy: 0.9940 - dense_6_categorical_accuracy: 0.9945 - dense_7_categorical_accuracy: 0.9944 - dense_8_categorical_accuracy: 0.9948 - dense_9_categorical_accuracy: 0.9951 - dense_10_categorical_accuracy: 0.9958 - val_loss: 0.2890 - val_dense_2_loss: 0.0244 - val_dense_3_loss: 0.0330 - val_dense_4_loss: 0.0325 - val_dense_5_loss: 0.0503 - val_dense_6_loss: 0.0416 - val_dense_7_loss: 0.0383 - val_dense_8_loss: 0.0270 - val_dense_9_loss: 0.0312 - val_dense_10_loss: 0.0107 - val_dense_2_categorical_accuracy: 0.9975 - val_dense_3_categorical_accuracy: 0.9956 - val_dense_4_categorical_accuracy: 0.9955 - val_dense_5_categorical_accuracy: 0.9912 - val_dense_6_categorical_accuracy: 0.9940 - val_dense_7_categorical_accuracy: 0.9949 - val_dense_8_categorical_accuracy: 0.9964 - val_dense_9_categorical_accuracy: 0.9950 - val_dense_10_categorical_accuracy: 0.9987\n",
            "Epoch 5/5\n",
            "780/780 [==============================] - 108s 138ms/step - loss: 0.1809 - dense_2_loss: 0.0189 - dense_3_loss: 0.0197 - dense_4_loss: 0.0214 - dense_5_loss: 0.0200 - dense_6_loss: 0.0236 - dense_7_loss: 0.0235 - dense_8_loss: 0.0215 - dense_9_loss: 0.0181 - dense_10_loss: 0.0142 - dense_2_categorical_accuracy: 0.9952 - dense_3_categorical_accuracy: 0.9954 - dense_4_categorical_accuracy: 0.9950 - dense_5_categorical_accuracy: 0.9952 - dense_6_categorical_accuracy: 0.9945 - dense_7_categorical_accuracy: 0.9947 - dense_8_categorical_accuracy: 0.9950 - dense_9_categorical_accuracy: 0.9958 - dense_10_categorical_accuracy: 0.9965 - val_loss: 0.4824 - val_dense_2_loss: 0.0397 - val_dense_3_loss: 0.0714 - val_dense_4_loss: 0.0590 - val_dense_5_loss: 0.0694 - val_dense_6_loss: 0.0642 - val_dense_7_loss: 0.0738 - val_dense_8_loss: 0.0531 - val_dense_9_loss: 0.0394 - val_dense_10_loss: 0.0125 - val_dense_2_categorical_accuracy: 0.9967 - val_dense_3_categorical_accuracy: 0.9944 - val_dense_4_categorical_accuracy: 0.9947 - val_dense_5_categorical_accuracy: 0.9937 - val_dense_6_categorical_accuracy: 0.9944 - val_dense_7_categorical_accuracy: 0.9943 - val_dense_8_categorical_accuracy: 0.9952 - val_dense_9_categorical_accuracy: 0.9969 - val_dense_10_categorical_accuracy: 0.9989\n"
          ],
          "name": "stdout"
        },
        {
          "output_type": "execute_result",
          "data": {
            "text/plain": [
              "<tensorflow.python.keras.callbacks.History at 0x7f17664f1b38>"
            ]
          },
          "metadata": {
            "tags": []
          },
          "execution_count": 42
        }
      ]
    },
    {
      "cell_type": "code",
      "metadata": {
        "id": "OwqM9SRhp4by"
      },
      "source": [
        "i= 0\n",
        "for test_set, test_labels in generator(x_train, y_train, batch_size=1000):\n",
        "    i += 1\n",
        "    if i > 1:\n",
        "        break"
      ],
      "execution_count": null,
      "outputs": []
    },
    {
      "cell_type": "code",
      "metadata": {
        "id": "-Ta3PpxgyH9I",
        "colab": {
          "base_uri": "https://localhost:8080/",
          "height": 373
        },
        "outputId": "3cf5c9eb-dd9a-41d4-8296-d8ab8d179072"
      },
      "source": [
        "model.evaluate(test_set, test_labels)"
      ],
      "execution_count": null,
      "outputs": [
        {
          "output_type": "stream",
          "text": [
            "32/32 [==============================] - 1s 22ms/step - loss: 0.0674 - dense_2_loss: 0.0063 - dense_3_loss: 0.0353 - dense_4_loss: 0.0033 - dense_5_loss: 3.2370e-04 - dense_6_loss: 0.0103 - dense_7_loss: 9.5953e-04 - dense_8_loss: 0.0091 - dense_9_loss: 0.0018 - dense_10_loss: 5.5603e-05 - dense_2_categorical_accuracy: 0.9980 - dense_3_categorical_accuracy: 0.9980 - dense_4_categorical_accuracy: 0.9990 - dense_5_categorical_accuracy: 1.0000 - dense_6_categorical_accuracy: 0.9980 - dense_7_categorical_accuracy: 1.0000 - dense_8_categorical_accuracy: 0.9970 - dense_9_categorical_accuracy: 0.9990 - dense_10_categorical_accuracy: 1.0000\n"
          ],
          "name": "stdout"
        },
        {
          "output_type": "execute_result",
          "data": {
            "text/plain": [
              "[0.06740207225084305,\n",
              " 0.00628602085635066,\n",
              " 0.03531826287508011,\n",
              " 0.003308018436655402,\n",
              " 0.00032369798282161355,\n",
              " 0.010254614055156708,\n",
              " 0.0009595284936949611,\n",
              " 0.009146134369075298,\n",
              " 0.0017501848051324487,\n",
              " 5.560261706705205e-05,\n",
              " 0.9980000257492065,\n",
              " 0.9980000257492065,\n",
              " 0.9990000128746033,\n",
              " 1.0,\n",
              " 0.9980000257492065,\n",
              " 1.0,\n",
              " 0.996999979019165,\n",
              " 0.9990000128746033,\n",
              " 1.0]"
            ]
          },
          "metadata": {
            "tags": []
          },
          "execution_count": 44
        }
      ]
    },
    {
      "cell_type": "code",
      "metadata": {
        "id": "kfCC5xs4yS0y"
      },
      "source": [
        "model.save('./9digit.h5')"
      ],
      "execution_count": null,
      "outputs": []
    },
    {
      "cell_type": "code",
      "metadata": {
        "id": "Y_0CUfj-zuTV"
      },
      "source": [
        "\n",
        "img = cv2.imread('6_1.jpg', 0)# Read the image\n",
        "(thresh, img_bin) = cv2.threshold(img, 128, 255, cv2.THRESH_BINARY | cv2.THRESH_OTSU)#Thresholding the image\n",
        "img_bin = 255-img_bin"
      ],
      "execution_count": null,
      "outputs": []
    },
    {
      "cell_type": "code",
      "metadata": {
        "id": "kWrWotht1Q5b",
        "colab": {
          "base_uri": "https://localhost:8080/",
          "height": 78
        },
        "outputId": "9986df78-30f0-4bbe-c134-b157e6fde1a6"
      },
      "source": [
        "cv2_imshow(img_bin)"
      ],
      "execution_count": null,
      "outputs": [
        {
          "output_type": "display_data",
          "data": {
            "image/png": "[encoded data removed]",
            "text/plain": [
              "<PIL.Image.Image image mode=L size=268x61 at 0x7F3684FED0B8>"
            ]
          },
          "metadata": {
            "tags": []
          }
        }
      ]
    },
    {
      "cell_type": "code",
      "metadata": {
        "id": "mwmYNMvD1yXq"
      },
      "source": [
        "#======================= sort_contours ===========================================\n",
        "def sort_contours(cnts, method=\"left-to-right\"):\n",
        "        # initialize the reverse flag and sort index\n",
        "        reverse = False\n",
        "        i = 0\n",
        "\n",
        "        # handle if we need to sort in reverse\n",
        "        if method == \"right-to-left\" or method == \"bottom-to-top\":\n",
        "                reverse = True\n",
        "\n",
        "        # handle if we are sorting against the y-coordinate rather than\n",
        "        # the x-coordinate of the bounding box\n",
        "        if method == \"top-to-bottom\" or method == \"bottom-to-top\":\n",
        "                i = 1\n",
        "\n",
        "        # construct the list of bounding boxes and sort them from top to\n",
        "        # bottom\n",
        "        boundingBoxes = [cv2.boundingRect(c) for c in cnts]\n",
        "        (cnts, boundingBoxes) = zip(*sorted(zip(cnts, boundingBoxes),\n",
        "                key=lambda b:b[1][i], reverse=reverse))\n",
        "\n",
        "        # return the list of sorted contours and bounding boxes\n",
        "        return (cnts, boundingBoxes)\n",
        "#==================================================================================\n",
        "\n",
        "\n",
        "def box_extraction(img_for_box_extraction_path, cropped_dir_path):\n",
        "        img = cv2.imread(img_for_box_extraction_path, 0)# Read the image\n",
        "        (thresh, img_bin) = cv2.threshold(img, 128, 255, cv2.THRESH_BINARY | cv2.THRESH_OTSU)#Thresholding the image\n",
        "        img_bin = 255-img_bin# Invert the image\n",
        "        #cv2_imshow(img_bin)\n",
        "        #cv2.imwrite(\"inter_processing/Image_bin.jpg\",img_bin)\n",
        "\n",
        "        # Defining a kernel length\n",
        "        kernel_length = np.array(img).shape[1]//40\n",
        "\n",
        "        # A verticle kernel of (1 X kernel_length), which will detect all the verticle lines from the image.\n",
        "        verticle_kernel = cv2.getStructuringElement(cv2.MORPH_RECT, (1, kernel_length))\n",
        "\n",
        "        # A horizontal kernel of (kernel_length X 1), which will help to detect all the horizontal line from the image.\n",
        "        hori_kernel = cv2.getStructuringElement(cv2.MORPH_RECT, (kernel_length, 1))\n",
        "\n",
        "        # A kernel of (3 X 3) ones.\n",
        "        kernel = cv2.getStructuringElement(cv2.MORPH_RECT, (3, 3))\n",
        "\n",
        "        # Morphological operation to detect verticle lines from an image\n",
        "        img_temp1 = cv2.erode(img_bin, verticle_kernel, iterations=3)\n",
        "        verticle_lines_img = cv2.dilate(img_temp1, verticle_kernel, iterations=3)\n",
        "        #cv2.imwrite(\"inter_processing/verticle_lines.jpg\",verticle_lines_img)\n",
        "        #cv2_imshow(verticle_lines_img)\n",
        "\n",
        "        # Morphological operation to detect horizontal lines from an image\n",
        "        img_temp2 = cv2.erode(img_bin, hori_kernel, iterations=3)\n",
        "        horizontal_lines_img = cv2.dilate(img_temp2, hori_kernel, iterations=3)\n",
        "        #cv2.imwrite(\"inter_processing/horizontal_lines.jpg\",horizontal_lines_img)\n",
        "        #cv2_imshow(horizontal_lines_img)\n",
        "\n",
        "        # Weighting parameters, this will decide the quantity of an image to be added to make a new image.\n",
        "        alpha = 0.5\n",
        "        beta = 1.0 - alpha\n",
        "\n",
        "        # This function helps to add two image with specific weight parameter to get a third image as summation of two image.\n",
        "        img_final_bin = cv2.addWeighted(verticle_lines_img, alpha, horizontal_lines_img, beta, 0.0)\n",
        "        img_final_bin = cv2.erode(~img_final_bin, kernel, iterations=2)\n",
        "        (thresh, img_final_bin) = cv2.threshold(img_final_bin, 128, 255, cv2.THRESH_BINARY | cv2.THRESH_OTSU)\n",
        "\n",
        "        # For Debugging\n",
        "        # Enable this line to see verticle and horizontal lines in the image which is used to find boxes\n",
        "        #cv2.imwrite(\"inter_processing/img_final_bin.jpg\",img_final_bin)\n",
        "        #cv2_imshow(img_final_bin)\n",
        "\n",
        "        # Find contours for image, which will detect all the boxes\n",
        "        contours, hierarchy = cv2.findContours(img_final_bin, cv2.RETR_TREE, cv2.CHAIN_APPROX_SIMPLE)\n",
        "\n",
        "        # Sort all the contours by top to bottom.\n",
        "        (contours, boundingBoxes) = sort_contours(contours, method=\"top-to-bottom\")\n",
        "        idx = 0\n",
        "        for c in contours:\n",
        "                # Returns the location and width,height for every contour\n",
        "                x, y, w, h = cv2.boundingRect(c)\n",
        "\n",
        "                # If the box height is greater then 20, widht is >80, then only save it as a box in \"cropped/\" folder.\n",
        "                if (w > 50 and h > 15) and w > 2*h:\n",
        "                        idx += 1\n",
        "                        new_img = img[y:y+h, x:x+w]\n",
        "                        new_img=~new_img\n",
        "                        (thresh, new_img) = cv2.threshold(new_img, 128, 255, cv2.THRESH_BINARY | cv2.THRESH_OTSU)\n",
        "                        cv2_imshow(new_img)\n",
        "                        arr.append(new_img)\n",
        "box_extraction(\"job_num.jpg\", \"./Cropped/\") #image to be extracted, directory where to save cropped images"
      ],
      "execution_count": null,
      "outputs": []
    },
    {
      "cell_type": "code",
      "metadata": {
        "id": "LTaNRkK_18ZW",
        "colab": {
          "base_uri": "https://localhost:8080/",
          "height": 221
        },
        "outputId": "68e916e6-619f-4071-86fe-dc61dde126b2"
      },
      "source": [
        "a=[]\n",
        "for x in range(0,22):\n",
        "    a.append(cv2.resize(arr[x], (168,28), interpolation=cv2.INTER_CUBIC))\n",
        "    cv2_imshow(a[x])"
      ],
      "execution_count": null,
      "outputs": [
        {
          "output_type": "error",
          "ename": "IndexError",
          "evalue": "ignored",
          "traceback": [
            "\u001b[0;31m---------------------------------------------------------------------------\u001b[0m",
            "\u001b[0;31mIndexError\u001b[0m                                Traceback (most recent call last)",
            "\u001b[0;32m<ipython-input-124-b2bcd450c524>\u001b[0m in \u001b[0;36m<module>\u001b[0;34m()\u001b[0m\n\u001b[1;32m      1\u001b[0m \u001b[0ma\u001b[0m\u001b[0;34m=\u001b[0m\u001b[0;34m[\u001b[0m\u001b[0;34m]\u001b[0m\u001b[0;34m\u001b[0m\u001b[0;34m\u001b[0m\u001b[0m\n\u001b[1;32m      2\u001b[0m \u001b[0;32mfor\u001b[0m \u001b[0mx\u001b[0m \u001b[0;32min\u001b[0m \u001b[0mrange\u001b[0m\u001b[0;34m(\u001b[0m\u001b[0;36m0\u001b[0m\u001b[0;34m,\u001b[0m\u001b[0;36m22\u001b[0m\u001b[0;34m)\u001b[0m\u001b[0;34m:\u001b[0m\u001b[0;34m\u001b[0m\u001b[0;34m\u001b[0m\u001b[0m\n\u001b[0;32m----> 3\u001b[0;31m     \u001b[0ma\u001b[0m\u001b[0;34m.\u001b[0m\u001b[0mappend\u001b[0m\u001b[0;34m(\u001b[0m\u001b[0mcv2\u001b[0m\u001b[0;34m.\u001b[0m\u001b[0mresize\u001b[0m\u001b[0;34m(\u001b[0m\u001b[0marr\u001b[0m\u001b[0;34m[\u001b[0m\u001b[0mx\u001b[0m\u001b[0;34m]\u001b[0m\u001b[0;34m,\u001b[0m \u001b[0;34m(\u001b[0m\u001b[0;36m168\u001b[0m\u001b[0;34m,\u001b[0m\u001b[0;36m28\u001b[0m\u001b[0;34m)\u001b[0m\u001b[0;34m,\u001b[0m \u001b[0minterpolation\u001b[0m\u001b[0;34m=\u001b[0m\u001b[0mcv2\u001b[0m\u001b[0;34m.\u001b[0m\u001b[0mINTER_CUBIC\u001b[0m\u001b[0;34m)\u001b[0m\u001b[0;34m)\u001b[0m\u001b[0;34m\u001b[0m\u001b[0;34m\u001b[0m\u001b[0m\n\u001b[0m\u001b[1;32m      4\u001b[0m     \u001b[0mcv2_imshow\u001b[0m\u001b[0;34m(\u001b[0m\u001b[0ma\u001b[0m\u001b[0;34m[\u001b[0m\u001b[0mx\u001b[0m\u001b[0;34m]\u001b[0m\u001b[0;34m)\u001b[0m\u001b[0;34m\u001b[0m\u001b[0;34m\u001b[0m\u001b[0m\n",
            "\u001b[0;31mIndexError\u001b[0m: list index out of range"
          ]
        }
      ]
    },
    {
      "cell_type": "code",
      "metadata": {
        "id": "GrGcxOIf4Ycw"
      },
      "source": [
        ""
      ],
      "execution_count": null,
      "outputs": []
    }
  ]
}