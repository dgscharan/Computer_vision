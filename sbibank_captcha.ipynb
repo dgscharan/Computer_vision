{
  "nbformat": 4,
  "nbformat_minor": 0,
  "metadata": {
    "colab": {
      "name": "sbibank_captcha.ipynb",
      "provenance": [],
      "authorship_tag": "ABX9TyMmwenTGG6xm4Q1hlbqae0b",
      "include_colab_link": true
    },
    "kernelspec": {
      "name": "python3",
      "display_name": "Python 3"
    }
  },
  "cells": [
    {
      "cell_type": "markdown",
      "metadata": {
        "id": "view-in-github",
        "colab_type": "text"
      },
      "source": [
        "<a href=\"https://colab.research.google.com/github/dgscharan/Computer_vision/blob/main/sbibank_captcha.ipynb\" target=\"_parent\"><img src=\"https://colab.research.google.com/assets/colab-badge.svg\" alt=\"Open In Colab\"/></a>"
      ]
    },
    {
      "cell_type": "code",
      "metadata": {
        "id": "z0CASzeEJzZF"
      },
      "source": [
        "import numpy as np \n",
        "import cv2 \n",
        "from google.colab.patches import cv2_imshow"
      ],
      "execution_count": null,
      "outputs": []
    },
    {
      "cell_type": "code",
      "metadata": {
        "id": "FyB_F5tKLDuD",
        "colab": {
          "base_uri": "https://localhost:8080/"
        },
        "outputId": "fd03916e-e61f-4653-d491-1fa37ce6217d"
      },
      "source": [
        "!sudo apt install tesseract-ocr\n",
        "!pip install pytesseract"
      ],
      "execution_count": null,
      "outputs": [
        {
          "output_type": "stream",
          "text": [
            "Reading package lists... Done\n",
            "Building dependency tree       \n",
            "Reading state information... Done\n",
            "tesseract-ocr is already the newest version (4.00~git2288-10f4998a-2).\n",
            "0 upgraded, 0 newly installed, 0 to remove and 11 not upgraded.\n",
            "Requirement already satisfied: pytesseract in /usr/local/lib/python3.6/dist-packages (0.3.6)\n",
            "Requirement already satisfied: Pillow in /usr/local/lib/python3.6/dist-packages (from pytesseract) (7.0.0)\n"
          ],
          "name": "stdout"
        }
      ]
    },
    {
      "cell_type": "code",
      "metadata": {
        "id": "lkkUQgyJLNY5"
      },
      "source": [
        "import pytesseract"
      ],
      "execution_count": null,
      "outputs": []
    },
    {
      "cell_type": "code",
      "metadata": {
        "id": "VHM_tbWKKooS",
        "colab": {
          "base_uri": "https://localhost:8080/",
          "height": 60
        },
        "outputId": "11fff246-6473-4f5c-dcde-dabdc5dde0d2"
      },
      "source": [
        "img = cv2.imread('./MicrosoftTeams-image (8).png', 0)\n",
        "cv2_imshow(img)"
      ],
      "execution_count": null,
      "outputs": [
        {
          "output_type": "display_data",
          "data": {
            "image/png": "[encoded data removed]",
            "text/plain": [
              "<PIL.Image.Image image mode=L size=151x43 at 0x7FB7EED1EC50>"
            ]
          },
          "metadata": {
            "tags": []
          }
        }
      ]
    },
    {
      "cell_type": "code",
      "metadata": {
        "id": "RWnJtdgMKwPu",
        "colab": {
          "base_uri": "https://localhost:8080/",
          "height": 103
        },
        "outputId": "5ef8c3d4-85d4-4afd-aa6c-8c52ebda6261"
      },
      "source": [
        "ret, thresh = cv2.threshold(img, 127,255, cv2.THRESH_BINARY_INV)\n",
        "cv2_imshow(thresh)\n",
        "\n",
        "kernel = np.ones((1,1),np.uint8)\n",
        "dilate = cv2.dilate(thresh,kernel,iterations = 1)\n",
        "cv2_imshow(dilate)"
      ],
      "execution_count": null,
      "outputs": [
        {
          "output_type": "display_data",
          "data": {
            "image/png": "[encoded data removed]",
            "text/plain": [
              "<PIL.Image.Image image mode=L size=151x43 at 0x7FB7EED1EE10>"
            ]
          },
          "metadata": {
            "tags": []
          }
        },
        {
          "output_type": "display_data",
          "data": {
            "image/png": "[encoded data removed]",
            "text/plain": [
              "<PIL.Image.Image image mode=L size=151x43 at 0x7FB7EED1EE10>"
            ]
          },
          "metadata": {
            "tags": []
          }
        }
      ]
    },
    {
      "cell_type": "code",
      "metadata": {
        "id": "TstnMeFOLQqq",
        "colab": {
          "base_uri": "https://localhost:8080/",
          "height": 36
        },
        "outputId": "35941595-1ed2-421c-bfbf-120ad476d48b"
      },
      "source": [
        "txt = pytesseract.image_to_string(dilate, config='-l eng --oem 1 --psm 7')\n",
        "txt"
      ],
      "execution_count": null,
      "outputs": [
        {
          "output_type": "execute_result",
          "data": {
            "application/vnd.google.colaboratory.intrinsic+json": {
              "type": "string"
            },
            "text/plain": [
              "'598E3\\n\\x0c'"
            ]
          },
          "metadata": {
            "tags": []
          },
          "execution_count": 99
        }
      ]
    },
    {
      "cell_type": "code",
      "metadata": {
        "id": "7T7nBSyYLdfa",
        "colab": {
          "base_uri": "https://localhost:8080/",
          "height": 139
        },
        "outputId": "4e42d59e-b29c-4e85-9404-16ad20e0e6a7"
      },
      "source": [
        "from PIL import Image\n",
        "pil_img = Image.open('./MicrosoftTeams-image (8).png')\n",
        "cv_img =  (np.array(pil_img))\n",
        "img = cv2.cvtColor(cv_img, cv2.COLOR_BGR2GRAY)\n",
        "ret, thresh = cv2.threshold(img, 127,255, cv2.THRESH_BINARY_INV)\n",
        "cv2_imshow(thresh)\n",
        "\n",
        "kernel = np.ones((1,1),np.uint8)\n",
        "dilate = cv2.dilate(thresh,kernel,iterations = 1)\n",
        "cv2_imshow(dilate)\n",
        "\n",
        "txt = pytesseract.image_to_string(dilate, config='-l eng --oem 1 --psm 7')\n",
        "print(txt)"
      ],
      "execution_count": null,
      "outputs": [
        {
          "output_type": "display_data",
          "data": {
            "image/png": "[encoded data removed]",
            "text/plain": [
              "<PIL.Image.Image image mode=L size=151x43 at 0x7FB7EEC3AEB8>"
            ]
          },
          "metadata": {
            "tags": []
          }
        },
        {
          "output_type": "display_data",
          "data": {
            "image/png": "[encoded data removed]",
            "text/plain": [
              "<PIL.Image.Image image mode=L size=151x43 at 0x7FB7EEC3AEB8>"
            ]
          },
          "metadata": {
            "tags": []
          }
        },
        {
          "output_type": "stream",
          "text": [
            "598E3\n",
            "\f\n"
          ],
          "name": "stdout"
        }
      ]
    },
    {
      "cell_type": "code",
      "metadata": {
        "id": "a4UB6F7ykjJ2",
        "colab": {
          "base_uri": "https://localhost:8080/",
          "height": 106
        },
        "outputId": "9be3a290-b0a3-4bb8-c1a6-325385fbf82a"
      },
      "source": [
        "!sudo apt install tesseract-ocr\n"
      ],
      "execution_count": null,
      "outputs": [
        {
          "output_type": "stream",
          "text": [
            "Reading package lists... Done\n",
            "Building dependency tree       \n",
            "Reading state information... Done\n",
            "tesseract-ocr is already the newest version (4.00~git2288-10f4998a-2).\n",
            "0 upgraded, 0 newly installed, 0 to remove and 21 not upgraded.\n"
          ],
          "name": "stdout"
        }
      ]
    },
    {
      "cell_type": "code",
      "metadata": {
        "id": "s3C41ocaovwM",
        "colab": {
          "base_uri": "https://localhost:8080/"
        },
        "outputId": "2834897b-c77e-4a7a-d25b-80be8d41906d"
      },
      "source": [
        "!pip install easyocr\n"
      ],
      "execution_count": null,
      "outputs": [
        {
          "output_type": "stream",
          "text": [
            "Collecting easyocr\n",
            "\u001b[?25l  Downloading https://files.pythonhosted.org/packages/34/49/c0bc96969a7f8167fb0478e50ad3f5ad2c6d93c99e20dc82875e92e0d783/easyocr-1.1.10-py3-none-any.whl (48.9MB)\n",
            "\u001b[K     |████████████████████████████████| 48.9MB 88kB/s \n",
            "\u001b[?25hRequirement already satisfied: Pillow in /usr/local/lib/python3.6/dist-packages (from easyocr) (7.0.0)\n",
            "Requirement already satisfied: scikit-image in /usr/local/lib/python3.6/dist-packages (from easyocr) (0.16.2)\n",
            "Collecting python-bidi\n",
            "  Downloading https://files.pythonhosted.org/packages/33/b0/f942d146a2f457233baaafd6bdf624eba8e0f665045b4abd69d1b62d097d/python_bidi-0.4.2-py2.py3-none-any.whl\n",
            "Requirement already satisfied: opencv-python in /usr/local/lib/python3.6/dist-packages (from easyocr) (4.1.2.30)\n",
            "Requirement already satisfied: torchvision>=0.5 in /usr/local/lib/python3.6/dist-packages (from easyocr) (0.8.1+cu101)\n",
            "Requirement already satisfied: torch in /usr/local/lib/python3.6/dist-packages (from easyocr) (1.7.0+cu101)\n",
            "Requirement already satisfied: numpy in /usr/local/lib/python3.6/dist-packages (from easyocr) (1.18.5)\n",
            "Requirement already satisfied: scipy in /usr/local/lib/python3.6/dist-packages (from easyocr) (1.4.1)\n",
            "Requirement already satisfied: networkx>=2.0 in /usr/local/lib/python3.6/dist-packages (from scikit-image->easyocr) (2.5)\n",
            "Requirement already satisfied: imageio>=2.3.0 in /usr/local/lib/python3.6/dist-packages (from scikit-image->easyocr) (2.4.1)\n",
            "Requirement already satisfied: PyWavelets>=0.4.0 in /usr/local/lib/python3.6/dist-packages (from scikit-image->easyocr) (1.1.1)\n",
            "Requirement already satisfied: matplotlib!=3.0.0,>=2.0.0 in /usr/local/lib/python3.6/dist-packages (from scikit-image->easyocr) (3.2.2)\n",
            "Requirement already satisfied: six in /usr/local/lib/python3.6/dist-packages (from python-bidi->easyocr) (1.15.0)\n",
            "Requirement already satisfied: typing-extensions in /usr/local/lib/python3.6/dist-packages (from torch->easyocr) (3.7.4.3)\n",
            "Requirement already satisfied: future in /usr/local/lib/python3.6/dist-packages (from torch->easyocr) (0.16.0)\n",
            "Requirement already satisfied: dataclasses in /usr/local/lib/python3.6/dist-packages (from torch->easyocr) (0.7)\n",
            "Requirement already satisfied: decorator>=4.3.0 in /usr/local/lib/python3.6/dist-packages (from networkx>=2.0->scikit-image->easyocr) (4.4.2)\n",
            "Requirement already satisfied: python-dateutil>=2.1 in /usr/local/lib/python3.6/dist-packages (from matplotlib!=3.0.0,>=2.0.0->scikit-image->easyocr) (2.8.1)\n",
            "Requirement already satisfied: kiwisolver>=1.0.1 in /usr/local/lib/python3.6/dist-packages (from matplotlib!=3.0.0,>=2.0.0->scikit-image->easyocr) (1.3.1)\n",
            "Requirement already satisfied: pyparsing!=2.0.4,!=2.1.2,!=2.1.6,>=2.0.1 in /usr/local/lib/python3.6/dist-packages (from matplotlib!=3.0.0,>=2.0.0->scikit-image->easyocr) (2.4.7)\n",
            "Requirement already satisfied: cycler>=0.10 in /usr/local/lib/python3.6/dist-packages (from matplotlib!=3.0.0,>=2.0.0->scikit-image->easyocr) (0.10.0)\n",
            "Installing collected packages: python-bidi, easyocr\n",
            "Successfully installed easyocr-1.1.10 python-bidi-0.4.2\n"
          ],
          "name": "stdout"
        }
      ]
    },
    {
      "cell_type": "code",
      "metadata": {
        "id": "6HtaFMXdwypO",
        "colab": {
          "base_uri": "https://localhost:8080/"
        },
        "outputId": "f6470b4e-d24f-4723-8aa6-e1307f5c76a4"
      },
      "source": [
        "import easyocr \n",
        "reader = easyocr.Reader(['en'])"
      ],
      "execution_count": null,
      "outputs": [
        {
          "output_type": "stream",
          "text": [
            "CUDA not available - defaulting to CPU. Note: This module is much faster with a GPU.\n"
          ],
          "name": "stderr"
        }
      ]
    },
    {
      "cell_type": "code",
      "metadata": {
        "id": "obAp51FVxQJR",
        "colab": {
          "base_uri": "https://localhost:8080/",
          "height": 221
        },
        "outputId": "f884b84d-9e12-4071-a058-563d161ef674"
      },
      "source": [
        "bounds = reader.readtext('6.JPG', detail=0, paragraph=True)\n",
        "print(bounds)\n",
        "\n"
      ],
      "execution_count": null,
      "outputs": [
        {
          "output_type": "stream",
          "text": [
            "['JA Kh t']\n"
          ],
          "name": "stdout"
        },
        {
          "output_type": "error",
          "ename": "AttributeError",
          "evalue": "ignored",
          "traceback": [
            "\u001b[0;31m---------------------------------------------------------------------------\u001b[0m",
            "\u001b[0;31mAttributeError\u001b[0m                            Traceback (most recent call last)",
            "\u001b[0;32m<ipython-input-18-cc80eb52d049>\u001b[0m in \u001b[0;36m<module>\u001b[0;34m()\u001b[0m\n\u001b[1;32m      2\u001b[0m \u001b[0mprint\u001b[0m\u001b[0;34m(\u001b[0m\u001b[0mbounds\u001b[0m\u001b[0;34m)\u001b[0m\u001b[0;34m\u001b[0m\u001b[0;34m\u001b[0m\u001b[0m\n\u001b[1;32m      3\u001b[0m \u001b[0;34m\u001b[0m\u001b[0m\n\u001b[0;32m----> 4\u001b[0;31m \u001b[0mbounds\u001b[0m\u001b[0;34m.\u001b[0m\u001b[0mtype\u001b[0m\u001b[0;34m\u001b[0m\u001b[0;34m\u001b[0m\u001b[0m\n\u001b[0m",
            "\u001b[0;31mAttributeError\u001b[0m: 'list' object has no attribute 'type'"
          ]
        }
      ]
    },
    {
      "cell_type": "code",
      "metadata": {
        "id": "UVLVVgN7xXuA"
      },
      "source": [
        "def do_sbi(img):\n",
        "    bounds = reader.readtext(img, detail=0, paragraph=True)\n",
        "    return bounds"
      ],
      "execution_count": null,
      "outputs": []
    },
    {
      "cell_type": "code",
      "metadata": {
        "id": "YIJqk6ulz5Q4",
        "colab": {
          "base_uri": "https://localhost:8080/"
        },
        "outputId": "02661a30-c768-4d6d-d6c9-71de2bb2235d"
      },
      "source": [
        "do_sbi('./3.JPG')"
      ],
      "execution_count": null,
      "outputs": [
        {
          "output_type": "execute_result",
          "data": {
            "text/plain": [
              "['2j rn p']"
            ]
          },
          "metadata": {
            "tags": []
          },
          "execution_count": 20
        }
      ]
    },
    {
      "cell_type": "code",
      "metadata": {
        "id": "xLobleMK0evM",
        "colab": {
          "base_uri": "https://localhost:8080/",
          "height": 36
        },
        "outputId": "90d3f85c-4b4c-402f-b48e-f83f2ecd2531"
      },
      "source": [
        "def listToString(s):  \n",
        "    \n",
        "    # initialize an empty string \n",
        "    str1 = \" \" \n",
        "    \n",
        "    # return string   \n",
        "    return (str1.join(s))\n",
        "\n",
        "str = listToString(bounds)\n",
        "str"
      ],
      "execution_count": null,
      "outputs": [
        {
          "output_type": "execute_result",
          "data": {
            "application/vnd.google.colaboratory.intrinsic+json": {
              "type": "string"
            },
            "text/plain": [
              "'JA Kh t'"
            ]
          },
          "metadata": {
            "tags": []
          },
          "execution_count": 28
        }
      ]
    },
    {
      "cell_type": "code",
      "metadata": {
        "id": "NFRQp_w700OE",
        "colab": {
          "base_uri": "https://localhost:8080/",
          "height": 36
        },
        "outputId": "8404c642-0f54-4697-8b06-b0e99ecc5956"
      },
      "source": [
        "def remove_space(string): \n",
        "    return string.replace(\" \", \"\") \n",
        "\n",
        "space_removed = remove_space(str)\n",
        "space_removed"
      ],
      "execution_count": null,
      "outputs": [
        {
          "output_type": "execute_result",
          "data": {
            "application/vnd.google.colaboratory.intrinsic+json": {
              "type": "string"
            },
            "text/plain": [
              "'JAKht'"
            ]
          },
          "metadata": {
            "tags": []
          },
          "execution_count": 39
        }
      ]
    },
    {
      "cell_type": "code",
      "metadata": {
        "id": "16dRTdTY1rEW",
        "colab": {
          "base_uri": "https://localhost:8080/",
          "height": 36
        },
        "outputId": "9e3e7bf3-65f0-4948-a2fc-08f5f33fd9ed"
      },
      "source": [
        "def remove_quotes(string):\n",
        "    return string.replace(\"'\", \"\")\n",
        "  \n",
        "remove_quotes(space_removed)\n"
      ],
      "execution_count": null,
      "outputs": [
        {
          "output_type": "execute_result",
          "data": {
            "application/vnd.google.colaboratory.intrinsic+json": {
              "type": "string"
            },
            "text/plain": [
              "'JAKht'"
            ]
          },
          "metadata": {
            "tags": []
          },
          "execution_count": 37
        }
      ]
    },
    {
      "cell_type": "code",
      "metadata": {
        "id": "WLvoxC0P5ETX",
        "colab": {
          "base_uri": "https://localhost:8080/"
        },
        "outputId": "8e582fb7-ed28-4521-f9ac-28c79a3bf091"
      },
      "source": [
        "def sbicaptcha(img):\n",
        "    bounds = reader.readtext(img, detail=0, paragraph=True)\n",
        "    str1 = \" \"\n",
        "    x = str1.join(bounds)\n",
        "    y = x.replace(\" \", \"\")\n",
        "    print(y)\n",
        "\n",
        "sbicaptcha('./6.JPG')\n",
        "\n"
      ],
      "execution_count": null,
      "outputs": [
        {
          "output_type": "stream",
          "text": [
            "JAKht\n"
          ],
          "name": "stdout"
        }
      ]
    },
    {
      "cell_type": "code",
      "metadata": {
        "id": "ebnUkmGa6s-z"
      },
      "source": [
        "app = Flask(__name__)\n",
        "@app.route(\"/api/v1/SbiCaptcha\",methods = [\"POST\"])\n",
        "\n",
        "def SbiCaptcha():\n",
        "    pil_img = Image.open(request.files[\"sbicaptcha\"])\n",
        "    bounds = reader.readtext(pil_img, detail=0, paragraph=True)\n",
        "    str1 = \" \"\n",
        "    x = str1.join(bounds)\n",
        "    y = x.replace(\" \", \"\")\n",
        "    print(y)\n",
        "    OutputJson = {}\n",
        "    OutputJson['text'] = y\n",
        "    resp = Response(response = json.dumps(OutputJson),status=200,mimetype=\"application/json\")\n",
        "    return resp\n",
        "\n",
        "    \n",
        "if __name__ == '__main__':\n",
        "    app.run(host = \"0.0.0.0\", port= 1947, debug=True)\n",
        "\n"
      ],
      "execution_count": null,
      "outputs": []
    }
  ]
}